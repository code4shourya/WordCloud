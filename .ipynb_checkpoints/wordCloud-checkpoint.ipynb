{
 "cells": [
  {
   "cell_type": "code",
   "execution_count": 1,
   "metadata": {
    "executionInfo": {
     "elapsed": 647,
     "status": "ok",
     "timestamp": 1622893010674,
     "user": {
      "displayName": "Shorya Nagpal",
      "photoUrl": "",
      "userId": "12126542232363168792"
     },
     "user_tz": -330
    },
    "id": "B-2FNoeu_vXs"
   },
   "outputs": [],
   "source": [
    "import matplotlib.pyplot as plt\n"
   ]
  },
  {
   "cell_type": "code",
   "execution_count": 2,
   "metadata": {
    "executionInfo": {
     "elapsed": 11,
     "status": "ok",
     "timestamp": 1622893013224,
     "user": {
      "displayName": "Shorya Nagpal",
      "photoUrl": "",
      "userId": "12126542232363168792"
     },
     "user_tz": -330
    },
    "id": "Gd-uYyPm_0Tf"
   },
   "outputs": [
    {
     "ename": "ModuleNotFoundError",
     "evalue": "No module named 'wordcloud'",
     "output_type": "error",
     "traceback": [
      "\u001b[1;31m---------------------------------------------------------------------------\u001b[0m",
      "\u001b[1;31mModuleNotFoundError\u001b[0m                       Traceback (most recent call last)",
      "\u001b[1;32m<ipython-input-2-60476ca70a25>\u001b[0m in \u001b[0;36m<module>\u001b[1;34m\u001b[0m\n\u001b[1;32m----> 1\u001b[1;33m \u001b[1;32mfrom\u001b[0m \u001b[0mwordcloud\u001b[0m \u001b[1;32mimport\u001b[0m  \u001b[0mWordCloud\u001b[0m \u001b[1;33m,\u001b[0m \u001b[0mSTOPWORDS\u001b[0m\u001b[1;33m\u001b[0m\u001b[1;33m\u001b[0m\u001b[0m\n\u001b[0m",
      "\u001b[1;31mModuleNotFoundError\u001b[0m: No module named 'wordcloud'"
     ]
    }
   ],
   "source": [
    "from wordcloud import  WordCloud , STOPWORDS"
   ]
  },
  {
   "cell_type": "code",
   "execution_count": 13,
   "metadata": {
    "executionInfo": {
     "elapsed": 865,
     "status": "ok",
     "timestamp": 1622893019539,
     "user": {
      "displayName": "Shorya Nagpal",
      "photoUrl": "",
      "userId": "12126542232363168792"
     },
     "user_tz": -330
    },
    "id": "hvXYEZUSCy-z"
   },
   "outputs": [],
   "source": [
    "text = open('wordcloud.txt',mode='r',encoding='utf-8').read()"
   ]
  },
  {
   "cell_type": "code",
   "execution_count": 14,
   "metadata": {
    "executionInfo": {
     "elapsed": 570,
     "status": "ok",
     "timestamp": 1622893023395,
     "user": {
      "displayName": "Shorya Nagpal",
      "photoUrl": "",
      "userId": "12126542232363168792"
     },
     "user_tz": -330
    },
    "id": "RT0CYiiDDIht"
   },
   "outputs": [],
   "source": [
    "stopwords = STOPWORDS"
   ]
  },
  {
   "cell_type": "code",
   "execution_count": 17,
   "metadata": {
    "colab": {
     "base_uri": "https://localhost:8080/"
    },
    "executionInfo": {
     "elapsed": 1335,
     "status": "ok",
     "timestamp": 1622893081960,
     "user": {
      "displayName": "Shorya Nagpal",
      "photoUrl": "",
      "userId": "12126542232363168792"
     },
     "user_tz": -330
    },
    "id": "YViX81XhDlZB",
    "outputId": "ffc9141b-42c9-4e44-ede5-cdbee0f160c5"
   },
   "outputs": [
    {
     "data": {
      "text/plain": [
       "<wordcloud.wordcloud.WordCloud at 0x7fd97a789c50>"
      ]
     },
     "execution_count": 17,
     "metadata": {
      "tags": []
     },
     "output_type": "execute_result"
    }
   ],
   "source": [
    "wc = WordCloud(\n",
    "    background_color = 'white',\n",
    "    stopwords=stopwords,\n",
    "    height=600,\n",
    "    width=1000\n",
    ")\n",
    "wc.generate(text)"
   ]
  },
  {
   "cell_type": "code",
   "execution_count": 18,
   "metadata": {
    "colab": {
     "base_uri": "https://localhost:8080/"
    },
    "executionInfo": {
     "elapsed": 16,
     "status": "ok",
     "timestamp": 1622893083559,
     "user": {
      "displayName": "Shorya Nagpal",
      "photoUrl": "",
      "userId": "12126542232363168792"
     },
     "user_tz": -330
    },
    "id": "6EqAUPRtD-eK",
    "outputId": "663e6844-e009-4c62-f469-d2a17a2899da"
   },
   "outputs": [
    {
     "data": {
      "text/plain": [
       "<wordcloud.wordcloud.WordCloud at 0x7fd97a789c50>"
      ]
     },
     "execution_count": 18,
     "metadata": {
      "tags": []
     },
     "output_type": "execute_result"
    }
   ],
   "source": [
    "wc.to_file('my1stwordcloud.png')\n"
   ]
  },
  {
   "cell_type": "markdown",
   "metadata": {
    "id": "zeQ6vkDG8pu3"
   },
   "source": [
    "# New Section"
   ]
  },
  {
   "cell_type": "code",
   "execution_count": null,
   "metadata": {
    "id": "SuZyCMY6EHRo"
   },
   "outputs": [],
   "source": []
  }
 ],
 "metadata": {
  "colab": {
   "authorship_tag": "ABX9TyN15KwU7zh0HO2zpZz8upjU",
   "collapsed_sections": [],
   "name": "wordCloud.ipynb",
   "provenance": [],
   "toc_visible": true
  },
  "kernelspec": {
   "display_name": "Python 3",
   "language": "python",
   "name": "python3"
  },
  "language_info": {
   "codemirror_mode": {
    "name": "ipython",
    "version": 3
   },
   "file_extension": ".py",
   "mimetype": "text/x-python",
   "name": "python",
   "nbconvert_exporter": "python",
   "pygments_lexer": "ipython3",
   "version": "3.7.6"
  }
 },
 "nbformat": 4,
 "nbformat_minor": 1
}
